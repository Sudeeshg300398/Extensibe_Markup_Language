{
 "cells": [
  {
   "cell_type": "markdown",
   "id": "c1086c37",
   "metadata": {},
   "source": [
    "**What is XML?**\n",
    "\n",
    "+ XML  ---> Extensibel Markup Language\n",
    "\n",
    "+ XML is a Markup Language and **file format** SERIALIZATION\n",
    "(sorting,transmitting, and reconstructing).\n",
    "\n",
    "+ It defines a set of rules for encoding documents in a way that is both human-readable and machine-readable.\n",
    "\n",
    "+ The design goals of XML emphasizes simplicity,     generality, and usuability across the internet.It is a textual data format with string support via **UNICODE** for different human languages.\n",
    "\n",
    "+ As a Markup language XML, it labels, categorizes and structurally organizes information, where as HTML is used for creating web pages, etc...,.\n",
    "\n",
    "**What is XSD?**\n",
    "\n",
    "* XSD  ---> XML Schema Definition\n",
    "\n",
    "* XSD defines the necessary metadata for interpreting and     validating XML file, also referred as Canonical schema.\n",
    "\n",
    "* An XML document that adheres to basic XML rules is well-formed XML document.\n",
    "\n",
    "* One that adheres to its schema(XSD) is valid."
   ]
  },
  {
   "cell_type": "markdown",
   "id": "a31ab435",
   "metadata": {},
   "source": [
    "# LOGICAL STRUCTURES OF XML"
   ]
  },
  {
   "cell_type": "markdown",
   "id": "ccd6a949",
   "metadata": {},
   "source": [
    "<root>\n",
    "  <element>\n",
    "    <subelement>...</subelement>\n",
    "  </element>\n",
    "</root>"
   ]
  },
  {
   "cell_type": "markdown",
   "id": "1352783a",
   "metadata": {},
   "source": [
    "![Online Imagw](https://way2tutorial.com/images/xml_employee.png)"
   ]
  },
  {
   "cell_type": "markdown",
   "id": "999a4426",
   "metadata": {},
   "source": [
    "**With this Understanding Lets try to Validate the XML using XSD**"
   ]
  },
  {
   "cell_type": "code",
   "execution_count": 1,
   "id": "64e1399c",
   "metadata": {},
   "outputs": [],
   "source": [
    "# importing necessary libraries\n",
    "\n",
    "from lxml import etree\n",
    "import pandas as pd\n",
    "import numpy as np"
   ]
  },
  {
   "cell_type": "code",
   "execution_count": 2,
   "id": "310105ad",
   "metadata": {},
   "outputs": [],
   "source": [
    "# creating a funtion to validate XML against XSD\n",
    "\n",
    "def validate_xml(xml_file,xsd_file):\n",
    "    try:\n",
    "        schema=etree.XMLSchema(file=xsd_file)\n",
    "        xml_doc=etree.parse(xml_file)\n",
    "        schema.assertValid(xml_doc)\n",
    "        \n",
    "        print(\"Validation Successful.The XML file is Valid against XSD\")\n",
    "        \n",
    "    except etree.XMLSchemaError as e:\n",
    "        print(f\"Schema Error : {e} \")\n",
    "    except etree.DocumentInvalid as e:\n",
    "        print(f\"Document invalid : {e}\")\n",
    "        print(\"Validation failed.The XML is not Valid agains XSD\")"
   ]
  },
  {
   "cell_type": "code",
   "execution_count": 3,
   "id": "4090f7c9",
   "metadata": {},
   "outputs": [
    {
     "name": "stdout",
     "output_type": "stream",
     "text": [
      "Schema Error : Failed to locate the main schema resource at 'bank_transactions.xsd'. \n"
     ]
    }
   ],
   "source": [
    "# validating XML against XSD using created function\n",
    "\n",
    "xml_file_path = \"20Feb2023.xml\"\n",
    "xsd_file_path = \"bank_transactions.xsd\"\n",
    "\n",
    "validate_xml(xml_file_path,xsd_file_path)"
   ]
  },
  {
   "cell_type": "code",
   "execution_count": 4,
   "id": "001fd99d",
   "metadata": {},
   "outputs": [
    {
     "name": "stdout",
     "output_type": "stream",
     "text": [
      "Validation Successful.The XML file is Valid against XSD\n"
     ]
    }
   ],
   "source": [
    "# validating XML against XSD using created funciton\n",
    "\n",
    "xml_file_path = \"C:\\\\Users\\\\91755\\\\Downloads\\\\XML Files\\\\XML Files\\\\20Feb2023.xml\"\n",
    "xsd_file_path = \"C:\\\\Users\\\\91755\\\\Downloads\\\\XML Files\\\\XML Files\\\\bank_transaction_xsd_corrected.xsd\"\n",
    "validate_xml(xml_file_path,xsd_file_path)"
   ]
  },
  {
   "cell_type": "markdown",
   "id": "57ffe6b4",
   "metadata": {},
   "source": [
    "**LETS PARSE THE XML FILE, FIND THE ROOT ELEMENT AND CHILD ELEMENTS**"
   ]
  },
  {
   "cell_type": "code",
   "execution_count": 5,
   "id": "de9d5f74",
   "metadata": {},
   "outputs": [
    {
     "name": "stdout",
     "output_type": "stream",
     "text": [
      "ROOT_ELEMENT  =  BankTransactions\n"
     ]
    }
   ],
   "source": [
    "#parsing an XML file\n",
    "xml_file_path = \"C:\\\\Users\\\\91755\\\\Downloads\\\\XML Files\\\\XML Files\\\\20Feb2023.xml\"\n",
    "tree=etree.parse(xml_file_path)\n",
    "root=tree.getroot()\n",
    "print(\"ROOT_ELEMENT  = \",root.tag)"
   ]
  },
  {
   "cell_type": "code",
   "execution_count": 6,
   "id": "c9d2c585",
   "metadata": {},
   "outputs": [
    {
     "name": "stdout",
     "output_type": "stream",
     "text": [
      "Unique Child Element Tag: Transaction\n"
     ]
    }
   ],
   "source": [
    "# child element of the parent element root\n",
    "\n",
    "unique_child_elements = set()\n",
    "\n",
    "# Iterate through all child elements under the root\n",
    "for child_element in root:\n",
    "    # Add the tag (element name) to the set\n",
    "    unique_child_elements.add(child_element.tag)\n",
    "\n",
    "# Print the unique child element tags\n",
    "for tag in unique_child_elements:\n",
    "    print(f\"Unique Child Element Tag: {tag}\")"
   ]
  },
  {
   "cell_type": "code",
   "execution_count": 7,
   "id": "1109c14e",
   "metadata": {},
   "outputs": [
    {
     "data": {
      "text/plain": [
       "['HolderName',\n",
       " 'TransactionAmount',\n",
       " 'Balance',\n",
       " 'TransactionDate',\n",
       " 'TransactionDescription',\n",
       " 'AccountNumber',\n",
       " 'TransactionType',\n",
       " 'Currency',\n",
       " 'ConversionRate']"
      ]
     },
     "execution_count": 7,
     "metadata": {},
     "output_type": "execute_result"
    }
   ],
   "source": [
    "# child element of transaction element\n",
    "\n",
    "column_name=list(set([element.tag for i in root.findall(\"Transaction\") for element in i]))\n",
    "column_name"
   ]
  },
  {
   "cell_type": "code",
   "execution_count": 8,
   "id": "c8ea7ed8",
   "metadata": {},
   "outputs": [],
   "source": [
    "# creating a empty dataframe using transaction child elements\n",
    "# as columns\n",
    "\n",
    "df=pd.DataFrame(columns=column_name)"
   ]
  },
  {
   "cell_type": "code",
   "execution_count": 9,
   "id": "8c62f02c",
   "metadata": {},
   "outputs": [
    {
     "data": {
      "text/html": [
       "<div>\n",
       "<style scoped>\n",
       "    .dataframe tbody tr th:only-of-type {\n",
       "        vertical-align: middle;\n",
       "    }\n",
       "\n",
       "    .dataframe tbody tr th {\n",
       "        vertical-align: top;\n",
       "    }\n",
       "\n",
       "    .dataframe thead th {\n",
       "        text-align: right;\n",
       "    }\n",
       "</style>\n",
       "<table border=\"1\" class=\"dataframe\">\n",
       "  <thead>\n",
       "    <tr style=\"text-align: right;\">\n",
       "      <th></th>\n",
       "      <th>HolderName</th>\n",
       "      <th>TransactionAmount</th>\n",
       "      <th>Balance</th>\n",
       "      <th>TransactionDate</th>\n",
       "      <th>TransactionDescription</th>\n",
       "      <th>AccountNumber</th>\n",
       "      <th>TransactionType</th>\n",
       "      <th>Currency</th>\n",
       "      <th>ConversionRate</th>\n",
       "    </tr>\n",
       "  </thead>\n",
       "  <tbody>\n",
       "    <tr>\n",
       "      <th>0</th>\n",
       "      <td>Qgmklsxylxw Nkufloaddbmm</td>\n",
       "      <td>125.73</td>\n",
       "      <td>13728.84</td>\n",
       "      <td>20Feb2023</td>\n",
       "      <td>JhkqWLDy</td>\n",
       "      <td>663709</td>\n",
       "      <td>Credit</td>\n",
       "      <td>SGD</td>\n",
       "      <td>1.0</td>\n",
       "    </tr>\n",
       "    <tr>\n",
       "      <th>1</th>\n",
       "      <td>Laauiwd Hmjmsgscxwgqovi</td>\n",
       "      <td>290.08</td>\n",
       "      <td>8826.28</td>\n",
       "      <td>20Feb2023</td>\n",
       "      <td>hdUdNytCNYVFlWzEILSbsDeVfd</td>\n",
       "      <td>702382</td>\n",
       "      <td>Credit</td>\n",
       "      <td>JPY</td>\n",
       "      <td>0.49</td>\n",
       "    </tr>\n",
       "    <tr>\n",
       "      <th>2</th>\n",
       "      <td>Dwqtm Oplgnhvgaubspaf</td>\n",
       "      <td>210.78</td>\n",
       "      <td>15548.06</td>\n",
       "      <td>20Feb2023</td>\n",
       "      <td>fDDpYwjtmfVVwzBFNEvSSzb</td>\n",
       "      <td>263664</td>\n",
       "      <td>Debit</td>\n",
       "      <td>CNY</td>\n",
       "      <td>0.19</td>\n",
       "    </tr>\n",
       "    <tr>\n",
       "      <th>3</th>\n",
       "      <td>Mnjnhdbdewe Fogkesgnhrivc</td>\n",
       "      <td>297.18</td>\n",
       "      <td>4351.6</td>\n",
       "      <td>20Feb2023</td>\n",
       "      <td>fVFjvzQogRhBZKnDQUkiyFo</td>\n",
       "      <td>619749</td>\n",
       "      <td>Credit</td>\n",
       "      <td>SGD</td>\n",
       "      <td>1.0</td>\n",
       "    </tr>\n",
       "    <tr>\n",
       "      <th>4</th>\n",
       "      <td>Vjrhlpotbfgamh Urpr</td>\n",
       "      <td>323.84</td>\n",
       "      <td>12058.33</td>\n",
       "      <td>20Feb2023</td>\n",
       "      <td>eXmJYQANBwUCAQlivzkI</td>\n",
       "      <td>969272</td>\n",
       "      <td>Debit</td>\n",
       "      <td>SGD</td>\n",
       "      <td>1.0</td>\n",
       "    </tr>\n",
       "  </tbody>\n",
       "</table>\n",
       "</div>"
      ],
      "text/plain": [
       "                  HolderName TransactionAmount   Balance TransactionDate  \\\n",
       "0   Qgmklsxylxw Nkufloaddbmm            125.73  13728.84       20Feb2023   \n",
       "1    Laauiwd Hmjmsgscxwgqovi            290.08   8826.28       20Feb2023   \n",
       "2      Dwqtm Oplgnhvgaubspaf            210.78  15548.06       20Feb2023   \n",
       "3  Mnjnhdbdewe Fogkesgnhrivc            297.18    4351.6       20Feb2023   \n",
       "4        Vjrhlpotbfgamh Urpr            323.84  12058.33       20Feb2023   \n",
       "\n",
       "       TransactionDescription AccountNumber TransactionType Currency  \\\n",
       "0                    JhkqWLDy        663709          Credit      SGD   \n",
       "1  hdUdNytCNYVFlWzEILSbsDeVfd        702382          Credit      JPY   \n",
       "2     fDDpYwjtmfVVwzBFNEvSSzb        263664           Debit      CNY   \n",
       "3     fVFjvzQogRhBZKnDQUkiyFo        619749          Credit      SGD   \n",
       "4        eXmJYQANBwUCAQlivzkI        969272           Debit      SGD   \n",
       "\n",
       "  ConversionRate  \n",
       "0            1.0  \n",
       "1           0.49  \n",
       "2           0.19  \n",
       "3            1.0  \n",
       "4            1.0  "
      ]
     },
     "execution_count": 9,
     "metadata": {},
     "output_type": "execute_result"
    }
   ],
   "source": [
    "# filling the values with of the columns with element texts\n",
    "\n",
    "transaction_data_list=[]\n",
    "\n",
    "for i in root.findall(\"Transaction\"):\n",
    "    transaction_data={}\n",
    "    \n",
    "    for element in i:\n",
    "        element_txt=element.text.strip() if element.text else None\n",
    "        transaction_data[element.tag]=element.text\n",
    "        \n",
    "    transaction_data[element.tag]=element.text\n",
    "    transaction_data_list.append(transaction_data)\n",
    "        \n",
    "df=pd.DataFrame(transaction_data_list,columns=column_name)\n",
    "\n",
    "df.head()"
   ]
  },
  {
   "cell_type": "code",
   "execution_count": 10,
   "id": "22c131fb",
   "metadata": {},
   "outputs": [
    {
     "data": {
      "text/plain": [
       "(1000, 9)"
      ]
     },
     "execution_count": 10,
     "metadata": {},
     "output_type": "execute_result"
    }
   ],
   "source": [
    "# shape of the created df\n",
    "df.shape"
   ]
  },
  {
   "cell_type": "code",
   "execution_count": 11,
   "id": "06ded373",
   "metadata": {},
   "outputs": [
    {
     "name": "stdout",
     "output_type": "stream",
     "text": [
      "<class 'pandas.core.frame.DataFrame'>\n",
      "RangeIndex: 1000 entries, 0 to 999\n",
      "Data columns (total 9 columns):\n",
      " #   Column                  Non-Null Count  Dtype \n",
      "---  ------                  --------------  ----- \n",
      " 0   HolderName              1000 non-null   object\n",
      " 1   TransactionAmount       999 non-null    object\n",
      " 2   Balance                 1000 non-null   object\n",
      " 3   TransactionDate         1000 non-null   object\n",
      " 4   TransactionDescription  1000 non-null   object\n",
      " 5   AccountNumber           1000 non-null   object\n",
      " 6   TransactionType         1000 non-null   object\n",
      " 7   Currency                1000 non-null   object\n",
      " 8   ConversionRate          1000 non-null   object\n",
      "dtypes: object(9)\n",
      "memory usage: 70.4+ KB\n"
     ]
    }
   ],
   "source": [
    "# df information\n",
    "df.info()"
   ]
  },
  {
   "cell_type": "markdown",
   "id": "c5acbdc6",
   "metadata": {},
   "source": [
    "**NOTE :** When parsing an XML file using lxml or xml.etree, the library creates element objects to represent the XML structure, and these objects store the values as strings by default."
   ]
  },
  {
   "cell_type": "code",
   "execution_count": 12,
   "id": "b8332892",
   "metadata": {},
   "outputs": [],
   "source": [
    "# type casting of columns\n",
    "\n",
    "columns=['ConversionRate','Balance','TransactionAmount']\n",
    "\n",
    "for i in columns:\n",
    "    df[i]=df[i].astype(np.number)"
   ]
  },
  {
   "cell_type": "code",
   "execution_count": 13,
   "id": "356d7952",
   "metadata": {},
   "outputs": [
    {
     "name": "stdout",
     "output_type": "stream",
     "text": [
      "<class 'pandas.core.frame.DataFrame'>\n",
      "RangeIndex: 1000 entries, 0 to 999\n",
      "Data columns (total 3 columns):\n",
      " #   Column             Non-Null Count  Dtype  \n",
      "---  ------             --------------  -----  \n",
      " 0   ConversionRate     1000 non-null   float64\n",
      " 1   Balance            1000 non-null   float64\n",
      " 2   TransactionAmount  999 non-null    float64\n",
      "dtypes: float64(3)\n",
      "memory usage: 23.6 KB\n"
     ]
    }
   ],
   "source": [
    "# assuring the type casting\n",
    "df[columns].info()"
   ]
  },
  {
   "cell_type": "code",
   "execution_count": 14,
   "id": "166d64c4",
   "metadata": {},
   "outputs": [
    {
     "data": {
      "text/plain": [
       "HolderName                0\n",
       "TransactionAmount         1\n",
       "Balance                   0\n",
       "TransactionDate           0\n",
       "TransactionDescription    0\n",
       "AccountNumber             0\n",
       "TransactionType           0\n",
       "Currency                  0\n",
       "ConversionRate            0\n",
       "dtype: int64"
      ]
     },
     "execution_count": 14,
     "metadata": {},
     "output_type": "execute_result"
    }
   ],
   "source": [
    "# missing value analysis\n",
    "df.isna().sum()"
   ]
  },
  {
   "cell_type": "code",
   "execution_count": 15,
   "id": "a671505d",
   "metadata": {},
   "outputs": [
    {
     "data": {
      "text/html": [
       "<div>\n",
       "<style scoped>\n",
       "    .dataframe tbody tr th:only-of-type {\n",
       "        vertical-align: middle;\n",
       "    }\n",
       "\n",
       "    .dataframe tbody tr th {\n",
       "        vertical-align: top;\n",
       "    }\n",
       "\n",
       "    .dataframe thead th {\n",
       "        text-align: right;\n",
       "    }\n",
       "</style>\n",
       "<table border=\"1\" class=\"dataframe\">\n",
       "  <thead>\n",
       "    <tr style=\"text-align: right;\">\n",
       "      <th></th>\n",
       "      <th>TransactionAmount</th>\n",
       "      <th>Balance</th>\n",
       "      <th>ConversionRate</th>\n",
       "    </tr>\n",
       "  </thead>\n",
       "  <tbody>\n",
       "    <tr>\n",
       "      <th>count</th>\n",
       "      <td>999.000000</td>\n",
       "      <td>1000.000000</td>\n",
       "      <td>1000.000000</td>\n",
       "    </tr>\n",
       "    <tr>\n",
       "      <th>mean</th>\n",
       "      <td>251.326917</td>\n",
       "      <td>15652.498040</td>\n",
       "      <td>0.998480</td>\n",
       "    </tr>\n",
       "    <tr>\n",
       "      <th>std</th>\n",
       "      <td>143.407599</td>\n",
       "      <td>8429.549013</td>\n",
       "      <td>0.362915</td>\n",
       "    </tr>\n",
       "    <tr>\n",
       "      <th>min</th>\n",
       "      <td>1.300000</td>\n",
       "      <td>1013.000000</td>\n",
       "      <td>0.020000</td>\n",
       "    </tr>\n",
       "    <tr>\n",
       "      <th>25%</th>\n",
       "      <td>123.445000</td>\n",
       "      <td>8479.477500</td>\n",
       "      <td>1.000000</td>\n",
       "    </tr>\n",
       "    <tr>\n",
       "      <th>50%</th>\n",
       "      <td>254.070000</td>\n",
       "      <td>16008.225000</td>\n",
       "      <td>1.000000</td>\n",
       "    </tr>\n",
       "    <tr>\n",
       "      <th>75%</th>\n",
       "      <td>380.055000</td>\n",
       "      <td>22963.890000</td>\n",
       "      <td>1.000000</td>\n",
       "    </tr>\n",
       "    <tr>\n",
       "      <th>max</th>\n",
       "      <td>499.060000</td>\n",
       "      <td>29993.900000</td>\n",
       "      <td>1.990000</td>\n",
       "    </tr>\n",
       "  </tbody>\n",
       "</table>\n",
       "</div>"
      ],
      "text/plain": [
       "       TransactionAmount       Balance  ConversionRate\n",
       "count         999.000000   1000.000000     1000.000000\n",
       "mean          251.326917  15652.498040        0.998480\n",
       "std           143.407599   8429.549013        0.362915\n",
       "min             1.300000   1013.000000        0.020000\n",
       "25%           123.445000   8479.477500        1.000000\n",
       "50%           254.070000  16008.225000        1.000000\n",
       "75%           380.055000  22963.890000        1.000000\n",
       "max           499.060000  29993.900000        1.990000"
      ]
     },
     "execution_count": 15,
     "metadata": {},
     "output_type": "execute_result"
    }
   ],
   "source": [
    "# summary statistic of numerical columns of df\n",
    "\n",
    "df.describe()"
   ]
  },
  {
   "cell_type": "code",
   "execution_count": 16,
   "id": "c3a9a163",
   "metadata": {},
   "outputs": [
    {
     "data": {
      "text/plain": [
       "Debit     513\n",
       "Credit    487\n",
       "Name: TransactionType, dtype: int64"
      ]
     },
     "execution_count": 16,
     "metadata": {},
     "output_type": "execute_result"
    }
   ],
   "source": [
    "# value_counts of transactiontype column\n",
    "df['TransactionType'].value_counts()"
   ]
  },
  {
   "cell_type": "code",
   "execution_count": 17,
   "id": "bdeb4f40",
   "metadata": {},
   "outputs": [
    {
     "data": {
      "text/plain": [
       "SGD    595\n",
       "KRW     89\n",
       "CNY     83\n",
       "JPY     82\n",
       "USD     78\n",
       "AUD     73\n",
       "Name: Currency, dtype: int64"
      ]
     },
     "execution_count": 17,
     "metadata": {},
     "output_type": "execute_result"
    }
   ],
   "source": [
    "# value counts of Currency column\n",
    "df['Currency'].value_counts()"
   ]
  },
  {
   "cell_type": "code",
   "execution_count": null,
   "id": "a63ee691",
   "metadata": {},
   "outputs": [],
   "source": []
  }
 ],
 "metadata": {
  "kernelspec": {
   "display_name": "Python 3 (ipykernel)",
   "language": "python",
   "name": "python3"
  },
  "language_info": {
   "codemirror_mode": {
    "name": "ipython",
    "version": 3
   },
   "file_extension": ".py",
   "mimetype": "text/x-python",
   "name": "python",
   "nbconvert_exporter": "python",
   "pygments_lexer": "ipython3",
   "version": "3.9.12"
  }
 },
 "nbformat": 4,
 "nbformat_minor": 5
}
